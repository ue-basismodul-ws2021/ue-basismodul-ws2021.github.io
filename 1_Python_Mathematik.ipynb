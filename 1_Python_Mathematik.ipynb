{
 "cells": [
  {
   "cell_type": "markdown",
   "metadata": {
    "slideshow": {
     "slide_type": "slide"
    }
   },
   "source": [
    "# Mathematische Konzepte in Python"
   ]
  },
  {
   "cell_type": "markdown",
   "metadata": {
    "slideshow": {
     "slide_type": "slide"
    }
   },
   "source": [
    "### Funktion"
   ]
  },
  {
   "cell_type": "code",
   "execution_count": 32,
   "metadata": {
    "slideshow": {
     "slide_type": "fragment"
    }
   },
   "outputs": [],
   "source": [
    "def add(x, y):\n",
    "    return x + y"
   ]
  },
  {
   "cell_type": "markdown",
   "metadata": {
    "slideshow": {
     "slide_type": "fragment"
    }
   },
   "source": [
    "$\\text{Eine Funktion }f\\text{ ordnet jedem Element }x\\text{ einer Definitionsmenge }D\\text{ genau ein Element }y\\text{ einer Zielmenge }Z\\text{ zu.}\\newline D \\to Z\\text{, }x \\mapsto y$"
   ]
  },
  {
   "cell_type": "markdown",
   "metadata": {
    "slideshow": {
     "slide_type": "fragment"
    }
   },
   "source": [
    "D = (type(x), type(y))  \n",
    "Z = type(return value)  \n",
    "x = (x, y)  \n",
    "y = (return value)\n",
    "Stelligkeit = 2"
   ]
  },
  {
   "cell_type": "markdown",
   "metadata": {
    "slideshow": {
     "slide_type": "slide"
    }
   },
   "source": [
    "### Container"
   ]
  },
  {
   "cell_type": "code",
   "execution_count": 33,
   "metadata": {
    "slideshow": {
     "slide_type": "fragment"
    }
   },
   "outputs": [
    {
     "data": {
      "text/plain": [
       "range"
      ]
     },
     "execution_count": 33,
     "metadata": {},
     "output_type": "execute_result"
    }
   ],
   "source": [
    "set\n",
    "\n",
    "# vs #\n",
    "\n",
    "tuple\n",
    "list\n",
    "range"
   ]
  },
  {
   "cell_type": "markdown",
   "metadata": {
    "slideshow": {
     "slide_type": "fragment"
    }
   },
   "source": [
    "Constructor?"
   ]
  },
  {
   "cell_type": "code",
   "execution_count": 34,
   "metadata": {
    "slideshow": {
     "slide_type": "fragment"
    }
   },
   "outputs": [
    {
     "data": {
      "text/plain": [
       "['string']"
      ]
     },
     "execution_count": 34,
     "metadata": {},
     "output_type": "execute_result"
    }
   ],
   "source": [
    "### leere Container ###\n",
    "\n",
    "[] # list\n",
    "{} # dict\n",
    "() # tuple\n",
    "set()\n",
    "\n",
    "\n",
    "### Achtung: Konvertierung ###\n",
    "\n",
    "list()\n",
    "dict()\n",
    "tuple()\n",
    "set()\n",
    "\n",
    "# --> auch für die Erzeugung von leeren Containern zu gebrauchen\n",
    "\n",
    "# Bei nicht-leeren Containern:\n",
    "\n",
    "# Vorsicht bei\n",
    "list(\"string\")\n",
    "# vs\n",
    "[\"string\"]\n"
   ]
  },
  {
   "cell_type": "markdown",
   "metadata": {
    "slideshow": {
     "slide_type": "slide"
    }
   },
   "source": [
    "### Mengenoperationen"
   ]
  },
  {
   "cell_type": "markdown",
   "metadata": {
    "slideshow": {
     "slide_type": "slide"
    }
   },
   "source": [
    "$\\text{Seien }A, B\\text{ Mengen. }M = A \\cup B.$"
   ]
  },
  {
   "cell_type": "code",
   "execution_count": 36,
   "metadata": {
    "slideshow": {
     "slide_type": "-"
    }
   },
   "outputs": [],
   "source": [
    "a = {1,2,3}\n",
    "b = {2,3,4}\n",
    "l = list(b)\n",
    "\n",
    "m = a | b\n",
    "m = a.union(l) # geht auch mit mit anderen iterables\n",
    "m = set.union(a, b)\n"
   ]
  },
  {
   "cell_type": "markdown",
   "metadata": {
    "slideshow": {
     "slide_type": "slide"
    }
   },
   "source": [
    "$\\text{Seien }A, B\\text{ Mengen. }M = A \\cap B.$"
   ]
  },
  {
   "cell_type": "code",
   "execution_count": 38,
   "metadata": {
    "slideshow": {
     "slide_type": "-"
    }
   },
   "outputs": [],
   "source": [
    "m = a & b\n",
    "m = a.intersection(b)"
   ]
  },
  {
   "cell_type": "markdown",
   "metadata": {
    "slideshow": {
     "slide_type": "slide"
    }
   },
   "source": [
    "$\\text{Seien }A, B\\text{ Mengen. }M = A \\setminus B.$"
   ]
  },
  {
   "cell_type": "code",
   "execution_count": 39,
   "metadata": {
    "slideshow": {
     "slide_type": "-"
    }
   },
   "outputs": [],
   "source": [
    "m = a - b\n",
    "m = a.difference(b)\n",
    " "
   ]
  },
  {
   "cell_type": "markdown",
   "metadata": {
    "slideshow": {
     "slide_type": "slide"
    }
   },
   "source": [
    "$\\text{Sei }M\\text{ eine Menge, }M := \\{1,3,6,7,12,4,2,16\\}$\n",
    "\n",
    "$A = \\{x \\in M\\text{ | }\\exists y \\in M : x + y = 10\\}$"
   ]
  },
  {
   "cell_type": "code",
   "execution_count": 40,
   "metadata": {
    "slideshow": {
     "slide_type": "-"
    }
   },
   "outputs": [],
   "source": [
    "m = {1, 3, 6, 7, 12, 4, 2, 16}\n",
    "a = [x for x in m if 10 - x in m]\n",
    "a = [x for x in m for y in m if x + y == 10]\n",
    "a = [x for x in m if any(x + y == 10 for y in m)]"
   ]
  }
 ],
 "metadata": {
  "celltoolbar": "Slideshow",
  "kernelspec": {
   "display_name": "Python 3",
   "language": "python",
   "name": "python3"
  },
  "language_info": {
   "codemirror_mode": {
    "name": "ipython",
    "version": 3
   },
   "file_extension": ".py",
   "mimetype": "text/x-python",
   "name": "python",
   "nbconvert_exporter": "python",
   "pygments_lexer": "ipython3",
   "version": "3.8.5"
  }
 },
 "nbformat": 4,
 "nbformat_minor": 4
}
