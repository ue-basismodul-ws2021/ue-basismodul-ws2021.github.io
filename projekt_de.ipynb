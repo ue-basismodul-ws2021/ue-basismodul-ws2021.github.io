{
 "cells": [
  {
   "cell_type": "markdown",
   "metadata": {},
   "source": [
    "# Basismodul Computerlinguistik\n",
    "### Übung\n",
    "\n",
    "## Abschlussprojekt\n",
    "\n",
    "\n",
    "Abgabe bis einschließlich **20.01.2021** in der unter Abschnitt 2 angegebenen Form an \\\n",
    "till.amelung@campus.lmu.de"
   ]
  },
  {
   "cell_type": "markdown",
   "metadata": {},
   "source": [
    "### 1. Aufgabenstellung\n",
    "\n",
    "In diesem Projekt wird der Daciuk-Algorithmus zur Konstruktion eines Minimalen Lexikonautomaten mit verschiedenen Erweiterungen implementiert. \n",
    "\n",
    "#### 1.2 Organisatorische und technische Hinweise\n",
    "Die Aufgabe soll vorzugsweise in **Zweiergruppen** bearbeitet werden. \\\n",
    "**Registrierung**: Jede Gruppe schickt eine Email mit den Namen der Gruppenteilnehmer und deren Matrikelnummern an die oben genannte Email-Adresse. \\\n",
    "\\\n",
    "Akzeptiert werden Programme, die unter Python 3.8 lauffähig sind. Das bedeutet für die Python3-Version, mit der **entwickelt** wird: Version <= 3.8\n",
    "\n",
    "Es darf die komplette Built-In Library verwendet werden, jedoch mit Ausnahme von graphviz keine externen (third-party) Libraries. \\\n",
    "\\\n",
    "Bei Unklarheiten oder sonstigen Fragen zur Aufgabenstellung:\n",
    "- zunächst in der **FAQ-Sektion** auf der Übungs-Website nachschauen, ob die Frage bereits gestellt wurde\n",
    "- wenn nicht: Keine Zeit verlieren - fragen.\n",
    "  \n",
    "Wenn man explizit **Hilfe** benötigt, gilt: Es ist bis einschließlich dem Mittwoch vor einer Sitzung eine Email an die genannte Adresse zu schicken. Dann werden etwaige Probleme direkt am Ende der Sitzung am Donnerstag in einem Breakout Room besprochen.\n",
    "\n",
    "#### 1.3 Bestehen\n",
    "\n",
    "Die Aufgabe gilt als bestanden, wenn die **Basisanforderung** (Abschnitt 1.4) erfüllt ist, und mindestens **3** der **5** **Erweiterungen** (Abschnitt 1.5) erfolgreich implementiert sind. Die Abgabeform ist in Abschnitt 2 angegeben.\n",
    "\n",
    "**Hinweis**: Das Programm wird bei der Evaluierung nur mit gültigen Daten aufgerufen. Es ist also nicht notwendig, fehlerhafte Nutzereingaben im Code aufwendig abzufangen. Allerdings muss das Programm dafür ausreichend dokumentiert sein, siehe Abschnitt 2.\n",
    "\n",
    "#### 1.4 Basisanforderung\n",
    "\n",
    "- Implementiere den Algorithmus zum Erstellen eines Minimalen Lexikonautomaten nach Daciuk, wie er in der Vorlesung besprochen wurde und in der Hausaufgabe zu Sitzung 4 bereits gefordert war ([Paper, Seite 8f.](https://www.cis.uni-muenchen.de/people/Schulz/pw/StoyanLexAutomat.pdf)).\n",
    "- Schreibe ein Programm, das aus einer Datei eine Wortliste einliest und daraus einen Lexikonautomaten erstellt. Zusätzlich soll das Programm dem Nutzer über die Kommandozeile die Eingabe von Wörtern ermöglichen und dann ausgeben, ob das Wort Teil der Sprache des Automaten ist. Das Programm soll sich regulär beenden, wenn der Nutzer das leere Wort, d.h. den leeren String eingibt. \n",
    "\n",
    "#### 1.5 Erweiterungen\n",
    "\n",
    "Folgende Erweiterungen für die Basisprogramm sind möglich. Es sollen mindestens 3 von 5 möglichen Erweiterungen umgesetzt werden.\n",
    "\n",
    "- **Sprache des Automaten**: Erweitere das Programm so, dass der Nutzer sich die Sprache des Automaten ausgeben lassen kann. Dabei soll der Automat *einmal* iterativ oder rekursiv durchlaufen werden, wobei nur diejenigen Wörter generiert werden dürfen, die Teil der Sprache des Automaten sind.\n",
    "- **Perfect Hashing**: Erweitere das Programm so, dass der Nutzer ein Wort und eine dazugehörige Meta-Information als String eingeben kann, welche dann mithilfe von Perfect Hashing in einer Hash-Tabelle gespeichert wird. Auf die gleiche Weise soll der Nutzer gespeicherte Meta-Informationen zu einem Wort abrufen können.\n",
    "- **Grafische Darstellung**: Das Programm soll die Option bieten, den Automaten als Grafik (graphviz) anzuzeigen.\n",
    "- **Speichern und Laden**: Der Automat soll in einer Datei abgespeichert und aus einer solchen Datei wieder geladen werden können. Es soll dann beim Starten des Programmes ausgewählt werden können, ob eine Datei mit einer Wortliste oder eine Datei mit einem abgespeicherten Automaten verwendet wird, um den Automaten zu konstruieren.\n",
    "- **Tarjan-Tabelle**: Es soll eine Tarjan-Tabelle erstellt werden können, die anschließend in einer Datei gespeichert und auch wieder geladen werden kann. Damit ist auch **Speichern und Laden** erfüllt.\n",
    "\n",
    "Die **Perfect-Hashing**-Labels und die **Tarjan-Tabelle** können sowohl parallel zum Daciuk-Algorithmus also auch mit einem bereits erstellten Automaten berechnet/konstruiert werden.\n",
    "\n",
    "> **Hinweis**: Es bietet sich an, die verschiedenen Nutzereingaben über eine Art 'Hauptmenü' abzufragen, in dem der Nutzer die verschiedenen Programmfunktionen aufrufen kann. Nutzereingaben können einfach über die ```input(prompt=)```-Funktion abgefragt werden. Beispiel:\n",
    "\n",
    "```\n",
    "Was möchtest du tun?\n",
    "  (1) Wort abfragen\n",
    "  (2) Automaten zeichnen\n",
    "  (3) Sprache ausgeben\n",
    "Bitte eingeben >>> _\n",
    "```"
   ]
  },
  {
   "cell_type": "markdown",
   "metadata": {},
   "source": [
    "### 2. Abgabeform\n",
    "- Das Projekt ist bis einschließlich **20.01.2021** an till.amelung@campus.lmu.de abzugeben\n",
    "- Das Projekt ist in Form von einer oder mehrerer .py-Datei(en) abzugeben, als **.zip** verpackt\n",
    "- Der Abgabe ist eine **README**-Datei im txt.- oder .md-Format beizufügen, in der\n",
    "  - der Programmaufruf mit allen möglichen Kommandozeilenargumenten erklärt ist\n",
    "  - beschrieben ist, welche Erweiterungen implementiert worden sind\n",
    "  - gegebenenfalls beschrieben ist, wie die umgesetzten Erweiterungen aufgerufen werden\n",
    "  - kurzum: dem Nutzer alle notwendigen Informationen zu Verfügung gestellt werden, um das Programm zu verwenden, ohne in den Source Code schauen zu müssen\n"
   ]
  }
 ],
 "metadata": {
  "kernelspec": {
   "display_name": "Python 3",
   "language": "python",
   "name": "python3"
  },
  "language_info": {
   "codemirror_mode": {
    "name": "ipython",
    "version": 3
   },
   "file_extension": ".py",
   "mimetype": "text/x-python",
   "name": "python",
   "nbconvert_exporter": "python",
   "pygments_lexer": "ipython3",
   "version": "3.8.6"
  }
 },
 "nbformat": 4,
 "nbformat_minor": 2
}
