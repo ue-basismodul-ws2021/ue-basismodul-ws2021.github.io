{
 "cells": [
  {
   "cell_type": "markdown",
   "metadata": {},
   "source": [
    "# Basismodul Computerlinguistik\n",
    "### Übung\n",
    "\n",
    "## Final Project\n",
    "\n",
    "\n",
    "Submission up to and including **January 20, 2021** in the form specified in Section 2 to  \n",
    "till.amelung@campus.lmu.de"
   ]
  },
  {
   "cell_type": "markdown",
   "metadata": {},
   "source": [
    "### 1. Task\n",
    "\n",
    "In this project, the Daciuk algorithm for constructing a minimal dictionary automaton shall be implemented with various extensions.\n",
    "\n",
    "#### 1.2 Organizational and technical details\n",
    "The task should preferably be worked on in **groups of two**.\n",
    "\n",
    "**Registration**: Each group sends an email with the names of the group participants and their matriculation numbers to the email address above.  \n",
    "\n",
    "Accepted are programs that are executable under Python 3.8. This means for the Python3 version that is **developed** with: version <= 3.8\n",
    "\n",
    "The entire built-in library may be used, but with the exception of graphviz no external (third-party) libraries.  \n",
    "\n",
    "If you are unclear or have any other questions about the task:\n",
    "- first check the **FAQ section** on the exercise website to see if the question has already been asked.\n",
    "- if this is not the case: Don't waste time - feel free to ask.  \n",
    "  \n",
    "If you need **help**, the following applies: An email must be sent to the address given up to and including the Wednesday before a meeting. Then any problems will be discussed in a breakout room at the end of the session on Thursday.\n",
    "\n",
    "#### 1.3 Passing\n",
    "\n",
    "The assignment is considered passed if\n",
    "- the **Basic Requirement** (Section 1.4) is met (CL **minor**)\n",
    "- the **Basic Requirement** (Section 1.4) is met, and at least **3** of the **5** **Extensions** (Section 1.5) are successfully implemented (CL **major**)  \n",
    "  \n",
    "The submission form is specified in Section 2.\n",
    "\n",
    "#### 1.4 Basic Requirement\n",
    "\n",
    "- Implement the algorithm for creating a minimal dictionary automaton according to Daciuk, as discussed in lecture and already required in the homework assignment for session 4. ([Paper, page 8f.](https://www.cis.uni-muenchen.de/people/Schulz/pw/StoyanLexAutomat.pdf)).\n",
    "- Write a program that reads a word list from a file and creates a dictionary automaton from it. In addition, the program should allow the user to enter words via the command line and then output whether the word is part of the language of the automaton. The program shall terminate regularly when the user enters the empty word, i.e. the empty string.  \n",
    "\n",
    "#### 1.5 Extensions\n",
    "\n",
    "The following extensions for the basic program are possible. At least 3 out of these 5 extensions are to be implemented.\n",
    "\n",
    "- **Language of the automaton**: Extend the program so that the user can have the language of the automaton output. The automaton should be run through iteratively or recursively *once*, whereby only those words may be generated that are part of the language.\n",
    "- **Perfect Hashing**: Extend the program to allow the user to enter a word and associated meta-information as a string, which is then stored in a hash table using perfect hashing. In the same way, the user should be able to retrieve stored meta-information about a word.\n",
    "- **Graphic representation**: The program should provide the option to display the automaton as a graphic (graphviz).\n",
    "- **Store and load**: It should be possible to store the automaton in a file and to load it again from such a file. When starting the program, it should then be possible to select whether a file containing a word list or a file containing an automaton is used to construct the automaton.\n",
    "- **Tarjan Table**: It should be possible to create a Tarjan Table, which can then be saved in a file and loaded again. This means that **Save and load** is also fulfilled.\n",
    "\n",
    "The **Perfect Hashing** labels and the **Tarjan Table** can be computed/constructed in parallel with the Daciuk algorithm as well as from an already created automaton.\n",
    "\n",
    "> **Note**: It is a good idea to query the various user inputs via a kind of 'main menu' in which the user can call the various program functions. User input can be easily queried via the `input(prompt=)` function. Example:\n",
    "\n",
    "```\n",
    "What do you want to do?\n",
    "  (1) query\n",
    "  (2) draw automaton\n",
    "  (3) print language\n",
    "Please select >>> _\n",
    "```"
   ]
  },
  {
   "cell_type": "markdown",
   "metadata": {},
   "source": [
    "### 2. Submission details\n",
    "- The project is to be submitted to till.amelung@campus.lmu.de by **January 20, 2021**\n",
    "- The project is to be submitted in the form of one or more .py files, archived as **.zip**\n",
    "- The submission must be accompanied by a **README** file in .txt or .md format in which\n",
    "  - the program call is explained with all possible command line arguments\n",
    "  - is described which extensions have been implemented\n",
    "  - if necessary, is described how the implemented extensions are called\n",
    "  - in short: the user is provided with all the information necessary to use the program without having to look at the source code\n"
   ]
  }
 ],
 "metadata": {
  "kernelspec": {
   "display_name": "Python 3",
   "language": "python",
   "name": "python3"
  },
  "language_info": {
   "codemirror_mode": {
    "name": "ipython",
    "version": 3
   },
   "file_extension": ".py",
   "mimetype": "text/x-python",
   "name": "python",
   "nbconvert_exporter": "python",
   "pygments_lexer": "ipython3",
   "version": "3.8.6"
  }
 },
 "nbformat": 4,
 "nbformat_minor": 2
}
